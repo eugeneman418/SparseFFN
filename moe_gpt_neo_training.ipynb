{
 "cells": [
  {
   "cell_type": "markdown",
   "id": "2d9d692d-2fc8-4d62-b2be-83dc87f977aa",
   "metadata": {},
   "source": [
    "# Imports and setups"
   ]
  },
  {
   "cell_type": "code",
   "execution_count": 1,
   "id": "7fcdf234-8380-42e8-a57a-1471d4b6770a",
   "metadata": {
    "ExecuteTime": {
     "end_time": "2024-05-20T09:13:59.536806400Z",
     "start_time": "2024-05-20T09:13:48.599237800Z"
    }
   },
   "outputs": [],
   "source": [
    "import transformers\n",
    "from datasets import load_from_disk\n",
    "from transformers import GPT2TokenizerFast\n",
    "from transformers import TrainingArguments, Trainer, DataCollatorForLanguageModeling\n",
    "from configuration_sparse_gpt_neo import SparseGPTNeoConfig, SparsityType\n",
    "from sparse_gpt_neo import SparseGPTNeoForCausalLM\n",
    "import wandb"
   ]
  },
  {
   "cell_type": "code",
   "execution_count": 2,
   "id": "e7f94eb7-3f1a-49e5-97ff-c440858d2df4",
   "metadata": {
    "ExecuteTime": {
     "end_time": "2024-05-20T09:14:05.103483800Z",
     "start_time": "2024-05-20T09:14:00.830701100Z"
    }
   },
   "outputs": [
    {
     "name": "stderr",
     "output_type": "stream",
     "text": [
      "wandb: Currently logged in as: y-wu-55 (tiny-transformers). Use `wandb login --relogin` to force relogin\n",
      "wandb: WARNING If you're specifying your api key in code, ensure this code is not shared publicly.\n",
      "wandb: WARNING Consider setting the WANDB_API_KEY environment variable, or running `wandb login` from the command line.\n",
      "wandb: Appending key for api.wandb.ai to your netrc file: C:\\Users\\wue09\\.netrc\n"
     ]
    }
   ],
   "source": [
    "transformers.set_seed(123)\n",
    "with open('wandb_key.txt') as f:\n",
    "    wandb.login(key = f.read())"
   ]
  },
  {
   "cell_type": "markdown",
   "id": "ed1776a9-9f59-449c-8e7a-253dff670b6e",
   "metadata": {},
   "source": [
    "# Data"
   ]
  },
  {
   "cell_type": "code",
   "execution_count": 3,
   "id": "de7446a2-467b-444a-9509-85bd44fa08cd",
   "metadata": {
    "ExecuteTime": {
     "end_time": "2024-05-20T09:14:10.757392100Z",
     "start_time": "2024-05-20T09:14:05.104499500Z"
    }
   },
   "outputs": [],
   "source": [
    "dataset = load_from_disk(\"data/TinyStories\")\n",
    "tokenized_dataset = load_from_disk(\"data/TokenizedTinyStories\")"
   ]
  },
  {
   "cell_type": "markdown",
   "id": "a81801c7-ecbd-4ea3-9155-dd519d68cf4b",
   "metadata": {},
   "source": [
    "# Model"
   ]
  },
  {
   "cell_type": "code",
   "execution_count": 4,
   "id": "e19fd0cb-65fb-4ac1-b376-934de5ef10ac",
   "metadata": {
    "ExecuteTime": {
     "end_time": "2024-05-20T09:14:10.771542700Z",
     "start_time": "2024-05-20T09:14:10.760798900Z"
    }
   },
   "outputs": [
    {
     "name": "stdout",
     "output_type": "stream",
     "text": [
      "intermediate layer size is 1023\n"
     ]
    }
   ],
   "source": [
    "dim_in = 256\n",
    "intermediate_factor = 16 # for baseline ffn, intermediate size intermediate factor * input dim\n",
    "sparsity_type=SparsityType.MOE\n",
    "num_experts = 4\n",
    "topk=1\n",
    "intermediate_size = round( (intermediate_factor * dim_in - num_experts) / num_experts )\n",
    "print(\"intermediate layer size is\", intermediate_size)"
   ]
  },
  {
   "cell_type": "code",
   "execution_count": 5,
   "id": "d594a965-0385-439a-afea-bdb2018adc86",
   "metadata": {
    "ExecuteTime": {
     "end_time": "2024-05-20T09:14:10.780317600Z",
     "start_time": "2024-05-20T09:14:10.774406600Z"
    }
   },
   "outputs": [],
   "source": [
    "config = SparseGPTNeoConfig(\n",
    "\n",
    "    # number of tokens in the vocabulary \n",
    "    vocab_size = 10_000, \n",
    "    # embedding size (vector length) of each token \n",
    "    hidden_size=dim_in, \n",
    "    # we thus have an embedding block of 512 x 10'000 parameters\n",
    "\n",
    "    # maximum sequence length, though inputs longer than `hidden_size` will be iteratively processed\n",
    "    max_position_embeddings = 512, \n",
    "\n",
    "    # number of transformer blocks. div by 2 for attention_types\n",
    "    num_layers=2, \n",
    "    # for global and local attention (GPT-Neo-specific)\n",
    "    attention_types=[[[\"global\", \"local\"], 1]], \n",
    "\n",
    "    num_heads=4,     # attention heads\n",
    "    window_size=384, # for local attention (GPT-Neo-specific)\n",
    "\n",
    "    sparsity_type=sparsity_type,\n",
    "    num_experts=num_experts,\n",
    "    topk=topk,\n",
    "    intermediate_size=intermediate_size, # size of 'up-projection' layer in FFN\n",
    ")"
   ]
  },
  {
   "cell_type": "code",
   "execution_count": 6,
   "id": "36e346e6-13c9-435e-94d5-49af98ee5f6a",
   "metadata": {
    "ExecuteTime": {
     "end_time": "2024-05-20T09:14:10.857311400Z",
     "start_time": "2024-05-20T09:14:10.782344200Z"
    }
   },
   "outputs": [
    {
     "name": "stderr",
     "output_type": "stream",
     "text": [
      "The tokenizer class you load from this checkpoint is not the same type as the class this function is called from. It may result in unexpected tokenization. \n",
      "The tokenizer class you load from this checkpoint is 'RobertaTokenizer'. \n",
      "The class this function is called from is 'GPT2TokenizerFast'.\n"
     ]
    },
    {
     "name": "stdout",
     "output_type": "stream",
     "text": [
      "padding token is <pad>\n"
     ]
    }
   ],
   "source": [
    "tokenize_function = GPT2TokenizerFast.from_pretrained('10k-tok', model_max_length=config.max_position_embeddings)\n",
    "\n",
    "assert tokenize_function.model_max_length == config.max_position_embeddings\n",
    "assert tokenize_function.vocab_size == config.vocab_size\n",
    "\n",
    "# printing this because of a bug in tokenizers (should be fixed now) https://github.com/huggingface/transformers/issues/26500\n",
    "print(f'padding token is {tokenize_function.pad_token}')\n",
    "# HF wasn't saving this nor the tokenizer's pad_token\n",
    "config.pad_token_id = tokenize_function.pad_token_id"
   ]
  },
  {
   "cell_type": "code",
   "execution_count": 7,
   "id": "0b58cab0-871a-4076-a008-c6af0767f89a",
   "metadata": {
    "ExecuteTime": {
     "end_time": "2024-05-20T09:14:14.222240800Z",
     "start_time": "2024-05-20T09:14:13.989012Z"
    }
   },
   "outputs": [
    {
     "name": "stdout",
     "output_type": "stream",
     "text": [
      "The model has 7,422,968 parameters.\n"
     ]
    }
   ],
   "source": [
    "model = SparseGPTNeoForCausalLM(config=config)\n",
    "\n",
    "print(f'The model has {model.num_parameters():,} parameters.')"
   ]
  },
  {
   "cell_type": "markdown",
   "id": "006b012f-b68b-4149-91d3-2f0e9d79b18b",
   "metadata": {},
   "source": [
    "# Trainer"
   ]
  },
  {
   "cell_type": "code",
   "execution_count": 8,
   "id": "b9befc2f-edd0-4a02-9db9-e891735bdb57",
   "metadata": {
    "ExecuteTime": {
     "end_time": "2024-05-20T09:14:21.050335300Z",
     "start_time": "2024-05-20T09:14:21.009275500Z"
    }
   },
   "outputs": [
    {
     "data": {
      "text/plain": "[0, 0, 0, 0, 0, 0, 0, 0, 0, 0]"
     },
     "execution_count": 8,
     "metadata": {},
     "output_type": "execute_result"
    }
   ],
   "source": [
    "assert len(tokenized_dataset['train'][0]['input_ids']) == config.max_position_embeddings\n",
    "tokenized_dataset['train'][0]['input_ids'][-10:] "
   ]
  },
  {
   "cell_type": "code",
   "execution_count": 9,
   "id": "3638944e-31b1-416c-ad07-d47319c3a729",
   "metadata": {
    "ExecuteTime": {
     "end_time": "2024-05-20T09:14:21.445569600Z",
     "start_time": "2024-05-20T09:14:21.437551500Z"
    }
   },
   "outputs": [],
   "source": [
    "train_dataset, eval_dataset = tokenized_dataset['train'], tokenized_dataset['validation']\n",
    "\n",
    "batch_size = 16 # TinyStories claims 80, but I am training locally on my poor M1 Air\n",
    "num_train_epochs = 2  # TinyStories doesn't mention\n",
    "gradient_accumulation_steps = 16 # TinyStories claims 16\n",
    "\n",
    "lr = 5e-4 # TinyStories claims 5e-4, higher values are preferable for smaller models\n",
    "\n",
    "_train_steps = len(train_dataset) // (batch_size * gradient_accumulation_steps)\n",
    "eval_steps = _train_steps // 10 # evaluate every 10% of training steps\n",
    "\n",
    "model_name = f'{model.num_parameters()//1e6:.1f}M-{config.num_layers}L-{config.num_heads}H-{config.hidden_size}C-{config.intermediate_size}I'"
   ]
  },
  {
   "cell_type": "code",
   "execution_count": 12,
   "id": "ba7e7d7c-58bc-482c-9609-75bd66dd3fcb",
   "metadata": {
    "ExecuteTime": {
     "end_time": "2024-05-20T09:17:15.714039400Z",
     "start_time": "2024-05-20T09:17:14.775040400Z"
    }
   },
   "outputs": [
    {
     "name": "stdout",
     "output_type": "stream",
     "text": [
      "\n",
      "    training for 2 epochs, 2119719 samples\n",
      "    16 batch size, 16 accumulation steps\n",
      "    gives 8280 training steps.\n",
      "\n",
      "    evaluating every 828 steps, 21990 samples \n",
      "    \n"
     ]
    }
   ],
   "source": [
    "training_args = TrainingArguments(\n",
    "\n",
    "    seed       = 123,\n",
    "    use_cpu    = False, # use GPU if available (not necessarily faster on laptops, but Apple's MPS have good support)\n",
    "    output_dir = f'./results/models/{model_name}',\n",
    "\n",
    "    # NOTE: training params\n",
    "    learning_rate    = lr,\n",
    "    num_train_epochs = num_train_epochs,\n",
    "    # Use a smaller batch size to fit into GPU RAM. \n",
    "    per_device_train_batch_size = batch_size,\n",
    "    per_device_eval_batch_size  = batch_size,\n",
    "    # You should aim to have the same amount of samples per acc step, in all of your experiments!\n",
    "    # so, if you increase batch_size, decrease gradient_accumulation_steps by the same factor.\n",
    "    gradient_accumulation_steps = gradient_accumulation_steps,\n",
    "\n",
    "    # NOTE: Evaluation params\n",
    "    # wandb is great for tracking experiments, it will even (try to) save your code nowadays\n",
    "    evaluation_strategy = 'steps',\n",
    "    eval_steps = eval_steps,\n",
    "    save_steps = eval_steps,\n",
    "\n",
    "    logging_first_step=True,\n",
    "    logging_steps=eval_steps,\n",
    "    report_to  = 'none',\n",
    ")\n",
    "\n",
    "trainer = Trainer(\n",
    "    model = model, \n",
    "    args = training_args, \n",
    "    train_dataset = train_dataset, \n",
    "    eval_dataset = eval_dataset,\n",
    "    data_collator = DataCollatorForLanguageModeling(tokenize_function, mlm=False),\n",
    ")\n",
    "\n",
    "# print amount of training steps, and how often the model is evaluated\n",
    "print(f'''\n",
    "    training for {num_train_epochs} epochs, {len(train_dataset)} samples\n",
    "    {batch_size} batch size, {gradient_accumulation_steps} accumulation steps\n",
    "    gives {_train_steps} training steps.\n",
    "\n",
    "    evaluating every {eval_steps} steps, {len(eval_dataset)} samples \n",
    "    ''')"
   ]
  },
  {
   "cell_type": "code",
   "execution_count": 13,
   "id": "9fedfc6c-0371-42d0-a6b1-7d383d51dc70",
   "metadata": {
    "ExecuteTime": {
     "end_time": "2024-05-20T09:17:25.237262800Z",
     "start_time": "2024-05-20T09:17:17.086003900Z"
    }
   },
   "outputs": [
    {
     "name": "stdout",
     "output_type": "stream",
     "text": [
      "tensor(0.0006, device='cuda:0', grad_fn=<AddBackward0>)\n",
      "tensor(0.0060, device='cuda:0', grad_fn=<AddBackward0>)\n",
      "tensor(0.0006, device='cuda:0', grad_fn=<AddBackward0>)\n",
      "tensor(0.0060, device='cuda:0', grad_fn=<AddBackward0>)\n",
      "tensor(0.0006, device='cuda:0', grad_fn=<AddBackward0>)\n",
      "tensor(0.0060, device='cuda:0', grad_fn=<AddBackward0>)\n",
      "tensor(0.0006, device='cuda:0', grad_fn=<AddBackward0>)\n",
      "tensor(0.0063, device='cuda:0', grad_fn=<AddBackward0>)\n",
      "tensor(0.0005, device='cuda:0', grad_fn=<AddBackward0>)\n",
      "tensor(0.0059, device='cuda:0', grad_fn=<AddBackward0>)\n",
      "tensor(0.0005, device='cuda:0', grad_fn=<AddBackward0>)\n",
      "tensor(0.0057, device='cuda:0', grad_fn=<AddBackward0>)\n",
      "tensor(0.0006, device='cuda:0', grad_fn=<AddBackward0>)\n",
      "tensor(0.0061, device='cuda:0', grad_fn=<AddBackward0>)\n",
      "tensor(0.0005, device='cuda:0', grad_fn=<AddBackward0>)\n",
      "tensor(0.0060, device='cuda:0', grad_fn=<AddBackward0>)\n",
      "tensor(0.0004, device='cuda:0', grad_fn=<AddBackward0>)\n",
      "tensor(0.0061, device='cuda:0', grad_fn=<AddBackward0>)\n",
      "tensor(0.0005, device='cuda:0', grad_fn=<AddBackward0>)\n",
      "tensor(0.0064, device='cuda:0', grad_fn=<AddBackward0>)\n",
      "tensor(0.0005, device='cuda:0', grad_fn=<AddBackward0>)\n",
      "tensor(0.0060, device='cuda:0', grad_fn=<AddBackward0>)\n",
      "tensor(0.0006, device='cuda:0', grad_fn=<AddBackward0>)\n",
      "tensor(0.0059, device='cuda:0', grad_fn=<AddBackward0>)\n",
      "tensor(0.0006, device='cuda:0', grad_fn=<AddBackward0>)\n",
      "tensor(0.0059, device='cuda:0', grad_fn=<AddBackward0>)\n",
      "tensor(0.0005, device='cuda:0', grad_fn=<AddBackward0>)\n",
      "tensor(0.0058, device='cuda:0', grad_fn=<AddBackward0>)\n",
      "tensor(0.0005, device='cuda:0', grad_fn=<AddBackward0>)\n",
      "tensor(0.0056, device='cuda:0', grad_fn=<AddBackward0>)\n",
      "tensor(0.0006, device='cuda:0', grad_fn=<AddBackward0>)\n",
      "tensor(0.0059, device='cuda:0', grad_fn=<AddBackward0>)\n"
     ]
    },
    {
     "data": {
      "text/plain": "<IPython.core.display.HTML object>",
      "text/html": "\n    <div>\n      \n      <progress value='2' max='16560' style='width:300px; height:20px; vertical-align: middle;'></progress>\n      [    2/16560 : < :, Epoch 0.00/2]\n    </div>\n    <table border=\"1\" class=\"dataframe\">\n  <thead>\n <tr style=\"text-align: left;\">\n      <th>Step</th>\n      <th>Training Loss</th>\n      <th>Validation Loss</th>\n    </tr>\n  </thead>\n  <tbody>\n  </tbody>\n</table><p>"
     },
     "metadata": {},
     "output_type": "display_data"
    },
    {
     "name": "stdout",
     "output_type": "stream",
     "text": [
      "tensor(0.0008, device='cuda:0', grad_fn=<AddBackward0>)\n",
      "tensor(0.0075, device='cuda:0', grad_fn=<AddBackward0>)\n",
      "tensor(0.0010, device='cuda:0', grad_fn=<AddBackward0>)\n",
      "tensor(0.0079, device='cuda:0', grad_fn=<AddBackward0>)\n",
      "tensor(0.0009, device='cuda:0', grad_fn=<AddBackward0>)\n",
      "tensor(0.0072, device='cuda:0', grad_fn=<AddBackward0>)\n",
      "tensor(0.0008, device='cuda:0', grad_fn=<AddBackward0>)\n",
      "tensor(0.0072, device='cuda:0', grad_fn=<AddBackward0>)\n",
      "tensor(0.0009, device='cuda:0', grad_fn=<AddBackward0>)\n",
      "tensor(0.0077, device='cuda:0', grad_fn=<AddBackward0>)\n",
      "tensor(0.0009, device='cuda:0', grad_fn=<AddBackward0>)\n",
      "tensor(0.0079, device='cuda:0', grad_fn=<AddBackward0>)\n",
      "tensor(0.0008, device='cuda:0', grad_fn=<AddBackward0>)\n",
      "tensor(0.0073, device='cuda:0', grad_fn=<AddBackward0>)\n",
      "tensor(0.0010, device='cuda:0', grad_fn=<AddBackward0>)\n",
      "tensor(0.0073, device='cuda:0', grad_fn=<AddBackward0>)\n",
      "tensor(0.0008, device='cuda:0', grad_fn=<AddBackward0>)\n",
      "tensor(0.0080, device='cuda:0', grad_fn=<AddBackward0>)\n",
      "tensor(0.0011, device='cuda:0', grad_fn=<AddBackward0>)\n",
      "tensor(0.0075, device='cuda:0', grad_fn=<AddBackward0>)\n",
      "tensor(0.0009, device='cuda:0', grad_fn=<AddBackward0>)\n",
      "tensor(0.0073, device='cuda:0', grad_fn=<AddBackward0>)\n",
      "tensor(0.0010, device='cuda:0', grad_fn=<AddBackward0>)\n",
      "tensor(0.0074, device='cuda:0', grad_fn=<AddBackward0>)\n",
      "tensor(0.0009, device='cuda:0', grad_fn=<AddBackward0>)\n",
      "tensor(0.0073, device='cuda:0', grad_fn=<AddBackward0>)\n",
      "tensor(0.0011, device='cuda:0', grad_fn=<AddBackward0>)\n",
      "tensor(0.0075, device='cuda:0', grad_fn=<AddBackward0>)\n"
     ]
    },
    {
     "ename": "KeyboardInterrupt",
     "evalue": "",
     "output_type": "error",
     "traceback": [
      "\u001B[1;31m---------------------------------------------------------------------------\u001B[0m",
      "\u001B[1;31mKeyboardInterrupt\u001B[0m                         Traceback (most recent call last)",
      "Cell \u001B[1;32mIn[13], line 2\u001B[0m\n\u001B[0;32m      1\u001B[0m \u001B[38;5;66;03m#wandb.init(project='moe-gpt-neo', name=model_name, config=training_args)\u001B[39;00m\n\u001B[1;32m----> 2\u001B[0m \u001B[43mtrainer\u001B[49m\u001B[38;5;241;43m.\u001B[39;49m\u001B[43mtrain\u001B[49m\u001B[43m(\u001B[49m\u001B[43m)\u001B[49m\n\u001B[0;32m      3\u001B[0m \u001B[38;5;66;03m#trainer.save_model(f'./results/models/{model_name}')\u001B[39;00m\n",
      "File \u001B[1;32m~\\CSE3000 Research Project\\SparseFFN\\venv\\Lib\\site-packages\\transformers\\trainer.py:1859\u001B[0m, in \u001B[0;36mTrainer.train\u001B[1;34m(self, resume_from_checkpoint, trial, ignore_keys_for_eval, **kwargs)\u001B[0m\n\u001B[0;32m   1857\u001B[0m         hf_hub_utils\u001B[38;5;241m.\u001B[39menable_progress_bars()\n\u001B[0;32m   1858\u001B[0m \u001B[38;5;28;01melse\u001B[39;00m:\n\u001B[1;32m-> 1859\u001B[0m     \u001B[38;5;28;01mreturn\u001B[39;00m \u001B[43minner_training_loop\u001B[49m\u001B[43m(\u001B[49m\n\u001B[0;32m   1860\u001B[0m \u001B[43m        \u001B[49m\u001B[43margs\u001B[49m\u001B[38;5;241;43m=\u001B[39;49m\u001B[43margs\u001B[49m\u001B[43m,\u001B[49m\n\u001B[0;32m   1861\u001B[0m \u001B[43m        \u001B[49m\u001B[43mresume_from_checkpoint\u001B[49m\u001B[38;5;241;43m=\u001B[39;49m\u001B[43mresume_from_checkpoint\u001B[49m\u001B[43m,\u001B[49m\n\u001B[0;32m   1862\u001B[0m \u001B[43m        \u001B[49m\u001B[43mtrial\u001B[49m\u001B[38;5;241;43m=\u001B[39;49m\u001B[43mtrial\u001B[49m\u001B[43m,\u001B[49m\n\u001B[0;32m   1863\u001B[0m \u001B[43m        \u001B[49m\u001B[43mignore_keys_for_eval\u001B[49m\u001B[38;5;241;43m=\u001B[39;49m\u001B[43mignore_keys_for_eval\u001B[49m\u001B[43m,\u001B[49m\n\u001B[0;32m   1864\u001B[0m \u001B[43m    \u001B[49m\u001B[43m)\u001B[49m\n",
      "File \u001B[1;32m~\\CSE3000 Research Project\\SparseFFN\\venv\\Lib\\site-packages\\transformers\\trainer.py:2203\u001B[0m, in \u001B[0;36mTrainer._inner_training_loop\u001B[1;34m(self, batch_size, args, resume_from_checkpoint, trial, ignore_keys_for_eval)\u001B[0m\n\u001B[0;32m   2200\u001B[0m     \u001B[38;5;28mself\u001B[39m\u001B[38;5;241m.\u001B[39mcontrol \u001B[38;5;241m=\u001B[39m \u001B[38;5;28mself\u001B[39m\u001B[38;5;241m.\u001B[39mcallback_handler\u001B[38;5;241m.\u001B[39mon_step_begin(args, \u001B[38;5;28mself\u001B[39m\u001B[38;5;241m.\u001B[39mstate, \u001B[38;5;28mself\u001B[39m\u001B[38;5;241m.\u001B[39mcontrol)\n\u001B[0;32m   2202\u001B[0m \u001B[38;5;28;01mwith\u001B[39;00m \u001B[38;5;28mself\u001B[39m\u001B[38;5;241m.\u001B[39maccelerator\u001B[38;5;241m.\u001B[39maccumulate(model):\n\u001B[1;32m-> 2203\u001B[0m     tr_loss_step \u001B[38;5;241m=\u001B[39m \u001B[38;5;28;43mself\u001B[39;49m\u001B[38;5;241;43m.\u001B[39;49m\u001B[43mtraining_step\u001B[49m\u001B[43m(\u001B[49m\u001B[43mmodel\u001B[49m\u001B[43m,\u001B[49m\u001B[43m \u001B[49m\u001B[43minputs\u001B[49m\u001B[43m)\u001B[49m\n\u001B[0;32m   2205\u001B[0m \u001B[38;5;28;01mif\u001B[39;00m (\n\u001B[0;32m   2206\u001B[0m     args\u001B[38;5;241m.\u001B[39mlogging_nan_inf_filter\n\u001B[0;32m   2207\u001B[0m     \u001B[38;5;129;01mand\u001B[39;00m \u001B[38;5;129;01mnot\u001B[39;00m is_torch_xla_available()\n\u001B[0;32m   2208\u001B[0m     \u001B[38;5;129;01mand\u001B[39;00m (torch\u001B[38;5;241m.\u001B[39misnan(tr_loss_step) \u001B[38;5;129;01mor\u001B[39;00m torch\u001B[38;5;241m.\u001B[39misinf(tr_loss_step))\n\u001B[0;32m   2209\u001B[0m ):\n\u001B[0;32m   2210\u001B[0m     \u001B[38;5;66;03m# if loss is nan or inf simply add the average of previous logged losses\u001B[39;00m\n\u001B[0;32m   2211\u001B[0m     tr_loss \u001B[38;5;241m+\u001B[39m\u001B[38;5;241m=\u001B[39m tr_loss \u001B[38;5;241m/\u001B[39m (\u001B[38;5;241m1\u001B[39m \u001B[38;5;241m+\u001B[39m \u001B[38;5;28mself\u001B[39m\u001B[38;5;241m.\u001B[39mstate\u001B[38;5;241m.\u001B[39mglobal_step \u001B[38;5;241m-\u001B[39m \u001B[38;5;28mself\u001B[39m\u001B[38;5;241m.\u001B[39m_globalstep_last_logged)\n",
      "File \u001B[1;32m~\\CSE3000 Research Project\\SparseFFN\\venv\\Lib\\site-packages\\transformers\\trainer.py:3147\u001B[0m, in \u001B[0;36mTrainer.training_step\u001B[1;34m(self, model, inputs)\u001B[0m\n\u001B[0;32m   3145\u001B[0m         scaled_loss\u001B[38;5;241m.\u001B[39mbackward()\n\u001B[0;32m   3146\u001B[0m \u001B[38;5;28;01melse\u001B[39;00m:\n\u001B[1;32m-> 3147\u001B[0m     \u001B[38;5;28;43mself\u001B[39;49m\u001B[38;5;241;43m.\u001B[39;49m\u001B[43maccelerator\u001B[49m\u001B[38;5;241;43m.\u001B[39;49m\u001B[43mbackward\u001B[49m\u001B[43m(\u001B[49m\u001B[43mloss\u001B[49m\u001B[43m)\u001B[49m\n\u001B[0;32m   3149\u001B[0m \u001B[38;5;28;01mreturn\u001B[39;00m loss\u001B[38;5;241m.\u001B[39mdetach() \u001B[38;5;241m/\u001B[39m \u001B[38;5;28mself\u001B[39m\u001B[38;5;241m.\u001B[39margs\u001B[38;5;241m.\u001B[39mgradient_accumulation_steps\n",
      "File \u001B[1;32m~\\CSE3000 Research Project\\SparseFFN\\venv\\Lib\\site-packages\\accelerate\\accelerator.py:2125\u001B[0m, in \u001B[0;36mAccelerator.backward\u001B[1;34m(self, loss, **kwargs)\u001B[0m\n\u001B[0;32m   2123\u001B[0m     \u001B[38;5;28mself\u001B[39m\u001B[38;5;241m.\u001B[39mlomo_backward(loss, learning_rate)\n\u001B[0;32m   2124\u001B[0m \u001B[38;5;28;01melse\u001B[39;00m:\n\u001B[1;32m-> 2125\u001B[0m     \u001B[43mloss\u001B[49m\u001B[38;5;241;43m.\u001B[39;49m\u001B[43mbackward\u001B[49m\u001B[43m(\u001B[49m\u001B[38;5;241;43m*\u001B[39;49m\u001B[38;5;241;43m*\u001B[39;49m\u001B[43mkwargs\u001B[49m\u001B[43m)\u001B[49m\n",
      "File \u001B[1;32m~\\CSE3000 Research Project\\SparseFFN\\venv\\Lib\\site-packages\\torch\\_tensor.py:525\u001B[0m, in \u001B[0;36mTensor.backward\u001B[1;34m(self, gradient, retain_graph, create_graph, inputs)\u001B[0m\n\u001B[0;32m    515\u001B[0m \u001B[38;5;28;01mif\u001B[39;00m has_torch_function_unary(\u001B[38;5;28mself\u001B[39m):\n\u001B[0;32m    516\u001B[0m     \u001B[38;5;28;01mreturn\u001B[39;00m handle_torch_function(\n\u001B[0;32m    517\u001B[0m         Tensor\u001B[38;5;241m.\u001B[39mbackward,\n\u001B[0;32m    518\u001B[0m         (\u001B[38;5;28mself\u001B[39m,),\n\u001B[1;32m   (...)\u001B[0m\n\u001B[0;32m    523\u001B[0m         inputs\u001B[38;5;241m=\u001B[39minputs,\n\u001B[0;32m    524\u001B[0m     )\n\u001B[1;32m--> 525\u001B[0m \u001B[43mtorch\u001B[49m\u001B[38;5;241;43m.\u001B[39;49m\u001B[43mautograd\u001B[49m\u001B[38;5;241;43m.\u001B[39;49m\u001B[43mbackward\u001B[49m\u001B[43m(\u001B[49m\n\u001B[0;32m    526\u001B[0m \u001B[43m    \u001B[49m\u001B[38;5;28;43mself\u001B[39;49m\u001B[43m,\u001B[49m\u001B[43m \u001B[49m\u001B[43mgradient\u001B[49m\u001B[43m,\u001B[49m\u001B[43m \u001B[49m\u001B[43mretain_graph\u001B[49m\u001B[43m,\u001B[49m\u001B[43m \u001B[49m\u001B[43mcreate_graph\u001B[49m\u001B[43m,\u001B[49m\u001B[43m \u001B[49m\u001B[43minputs\u001B[49m\u001B[38;5;241;43m=\u001B[39;49m\u001B[43minputs\u001B[49m\n\u001B[0;32m    527\u001B[0m \u001B[43m\u001B[49m\u001B[43m)\u001B[49m\n",
      "File \u001B[1;32m~\\CSE3000 Research Project\\SparseFFN\\venv\\Lib\\site-packages\\torch\\autograd\\__init__.py:267\u001B[0m, in \u001B[0;36mbackward\u001B[1;34m(tensors, grad_tensors, retain_graph, create_graph, grad_variables, inputs)\u001B[0m\n\u001B[0;32m    262\u001B[0m     retain_graph \u001B[38;5;241m=\u001B[39m create_graph\n\u001B[0;32m    264\u001B[0m \u001B[38;5;66;03m# The reason we repeat the same comment below is that\u001B[39;00m\n\u001B[0;32m    265\u001B[0m \u001B[38;5;66;03m# some Python versions print out the first line of a multi-line function\u001B[39;00m\n\u001B[0;32m    266\u001B[0m \u001B[38;5;66;03m# calls in the traceback and some print out the last line\u001B[39;00m\n\u001B[1;32m--> 267\u001B[0m \u001B[43m_engine_run_backward\u001B[49m\u001B[43m(\u001B[49m\n\u001B[0;32m    268\u001B[0m \u001B[43m    \u001B[49m\u001B[43mtensors\u001B[49m\u001B[43m,\u001B[49m\n\u001B[0;32m    269\u001B[0m \u001B[43m    \u001B[49m\u001B[43mgrad_tensors_\u001B[49m\u001B[43m,\u001B[49m\n\u001B[0;32m    270\u001B[0m \u001B[43m    \u001B[49m\u001B[43mretain_graph\u001B[49m\u001B[43m,\u001B[49m\n\u001B[0;32m    271\u001B[0m \u001B[43m    \u001B[49m\u001B[43mcreate_graph\u001B[49m\u001B[43m,\u001B[49m\n\u001B[0;32m    272\u001B[0m \u001B[43m    \u001B[49m\u001B[43minputs\u001B[49m\u001B[43m,\u001B[49m\n\u001B[0;32m    273\u001B[0m \u001B[43m    \u001B[49m\u001B[43mallow_unreachable\u001B[49m\u001B[38;5;241;43m=\u001B[39;49m\u001B[38;5;28;43;01mTrue\u001B[39;49;00m\u001B[43m,\u001B[49m\n\u001B[0;32m    274\u001B[0m \u001B[43m    \u001B[49m\u001B[43maccumulate_grad\u001B[49m\u001B[38;5;241;43m=\u001B[39;49m\u001B[38;5;28;43;01mTrue\u001B[39;49;00m\u001B[43m,\u001B[49m\n\u001B[0;32m    275\u001B[0m \u001B[43m\u001B[49m\u001B[43m)\u001B[49m\n",
      "File \u001B[1;32m~\\CSE3000 Research Project\\SparseFFN\\venv\\Lib\\site-packages\\torch\\autograd\\graph.py:744\u001B[0m, in \u001B[0;36m_engine_run_backward\u001B[1;34m(t_outputs, *args, **kwargs)\u001B[0m\n\u001B[0;32m    742\u001B[0m     unregister_hooks \u001B[38;5;241m=\u001B[39m _register_logging_hooks_on_whole_graph(t_outputs)\n\u001B[0;32m    743\u001B[0m \u001B[38;5;28;01mtry\u001B[39;00m:\n\u001B[1;32m--> 744\u001B[0m     \u001B[38;5;28;01mreturn\u001B[39;00m \u001B[43mVariable\u001B[49m\u001B[38;5;241;43m.\u001B[39;49m\u001B[43m_execution_engine\u001B[49m\u001B[38;5;241;43m.\u001B[39;49m\u001B[43mrun_backward\u001B[49m\u001B[43m(\u001B[49m\u001B[43m  \u001B[49m\u001B[38;5;66;43;03m# Calls into the C++ engine to run the backward pass\u001B[39;49;00m\n\u001B[0;32m    745\u001B[0m \u001B[43m        \u001B[49m\u001B[43mt_outputs\u001B[49m\u001B[43m,\u001B[49m\u001B[43m \u001B[49m\u001B[38;5;241;43m*\u001B[39;49m\u001B[43margs\u001B[49m\u001B[43m,\u001B[49m\u001B[43m \u001B[49m\u001B[38;5;241;43m*\u001B[39;49m\u001B[38;5;241;43m*\u001B[39;49m\u001B[43mkwargs\u001B[49m\n\u001B[0;32m    746\u001B[0m \u001B[43m    \u001B[49m\u001B[43m)\u001B[49m  \u001B[38;5;66;03m# Calls into the C++ engine to run the backward pass\u001B[39;00m\n\u001B[0;32m    747\u001B[0m \u001B[38;5;28;01mfinally\u001B[39;00m:\n\u001B[0;32m    748\u001B[0m     \u001B[38;5;28;01mif\u001B[39;00m attach_logging_hooks:\n",
      "\u001B[1;31mKeyboardInterrupt\u001B[0m: "
     ]
    }
   ],
   "source": [
    "#wandb.init(project='moe-gpt-neo', name=model_name, config=training_args)\n",
    "trainer.train()\n",
    "#trainer.save_model(f'./results/models/{model_name}')"
   ]
  },
  {
   "cell_type": "code",
   "execution_count": null,
   "id": "9e51dcc1-03c2-4cad-8599-3c86d0e5a46f",
   "metadata": {},
   "outputs": [],
   "source": []
  }
 ],
 "metadata": {
  "kernelspec": {
   "display_name": "Python 3 (ipykernel)",
   "language": "python",
   "name": "python3"
  },
  "language_info": {
   "codemirror_mode": {
    "name": "ipython",
    "version": 3
   },
   "file_extension": ".py",
   "mimetype": "text/x-python",
   "name": "python",
   "nbconvert_exporter": "python",
   "pygments_lexer": "ipython3",
   "version": "3.11.4"
  }
 },
 "nbformat": 4,
 "nbformat_minor": 5
}
