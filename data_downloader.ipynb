{
 "cells": [
  {
   "cell_type": "code",
   "execution_count": 4,
   "id": "474a9512-a17d-4cad-a421-9778973267c5",
   "metadata": {},
   "outputs": [],
   "source": [
    "from datasets import load_dataset\n",
    "from datasets import load_from_disk"
   ]
  },
  {
   "cell_type": "code",
   "execution_count": 2,
   "id": "bd277a29-95bd-4d87-b197-7c35d468b146",
   "metadata": {},
   "outputs": [
    {
     "name": "stderr",
     "output_type": "stream",
     "text": [
      "Downloading readme: 100%|███████████████████████████████████████████████████████████████████████████████████████████████████████████████| 1.02k/1.02k [00:00<?, ?B/s]\n",
      "Repo card metadata block was not found. Setting CardData to empty.\n",
      "Downloading data: 100%|███████████████████████████████████████████████████████████████████████████████████████████████████████████| 249M/249M [00:19<00:00, 12.8MB/s]\n",
      "Downloading data: 100%|███████████████████████████████████████████████████████████████████████████████████████████████████████████| 248M/248M [00:18<00:00, 13.3MB/s]\n",
      "Downloading data: 100%|███████████████████████████████████████████████████████████████████████████████████████████████████████████| 246M/246M [00:19<00:00, 12.4MB/s]\n",
      "Downloading data: 100%|███████████████████████████████████████████████████████████████████████████████████████████████████████████| 248M/248M [00:18<00:00, 13.2MB/s]\n",
      "Downloading data: 100%|█████████████████████████████████████████████████████████████████████████████████████████████████████████| 9.99M/9.99M [00:00<00:00, 11.5MB/s]\n",
      "Generating train split: 100%|███████████████████████████████████████████████████████████████████████████████████| 2119719/2119719 [00:05<00:00, 396965.31 examples/s]\n",
      "Generating validation split: 100%|██████████████████████████████████████████████████████████████████████████████████| 21990/21990 [00:00<00:00, 302181.50 examples/s]\n"
     ]
    }
   ],
   "source": [
    "dataset = load_dataset('roneneldan/TinyStories', cache_dir='./data')"
   ]
  },
  {
   "cell_type": "code",
   "execution_count": 3,
   "id": "a14ffcb9-fb41-4419-a48b-886c104a0a68",
   "metadata": {},
   "outputs": [
    {
     "name": "stderr",
     "output_type": "stream",
     "text": [
      "Saving the dataset (4/4 shards): 100%|█████████████████████████████████████████████████████████████████████████| 2119719/2119719 [00:01<00:00, 1335210.46 examples/s]\n",
      "Saving the dataset (1/1 shards): 100%|██████████████████████████████████████████████████████████████████████████████| 21990/21990 [00:00<00:00, 882002.30 examples/s]\n"
     ]
    }
   ],
   "source": [
    "dataset.save_to_disk(\"./data/TinyStories\")"
   ]
  },
  {
   "cell_type": "code",
   "execution_count": 6,
   "id": "b8853736-a815-4006-8ccb-bb70ceabceb9",
   "metadata": {},
   "outputs": [],
   "source": [
    "db = load_from_disk('./data/TinyStories')"
   ]
  },
  {
   "cell_type": "code",
   "execution_count": 8,
   "id": "ab63881c-4ec9-4085-81a0-0b343f4dfcfb",
   "metadata": {},
   "outputs": [
    {
     "data": {
      "text/plain": [
       "{'train': 0, 'validation': 0}"
      ]
     },
     "execution_count": 8,
     "metadata": {},
     "output_type": "execute_result"
    }
   ],
   "source": [
    "dataset.cleanup_cache_files()"
   ]
  },
  {
   "cell_type": "code",
   "execution_count": null,
   "id": "f3c92598-4a77-406a-9291-8e6a8739e03e",
   "metadata": {},
   "outputs": [],
   "source": []
  }
 ],
 "metadata": {
  "kernelspec": {
   "display_name": "Python 3 (ipykernel)",
   "language": "python",
   "name": "python3"
  },
  "language_info": {
   "codemirror_mode": {
    "name": "ipython",
    "version": 3
   },
   "file_extension": ".py",
   "mimetype": "text/x-python",
   "name": "python",
   "nbconvert_exporter": "python",
   "pygments_lexer": "ipython3",
   "version": "3.11.9"
  }
 },
 "nbformat": 4,
 "nbformat_minor": 5
}
