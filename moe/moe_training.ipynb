{
 "cells": [
  {
   "cell_type": "markdown",
   "id": "2d9d692d-2fc8-4d62-b2be-83dc87f977aa",
   "metadata": {},
   "source": [
    "# Imports and setups"
   ]
  },
  {
   "cell_type": "code",
   "execution_count": 2,
   "id": "7fcdf234-8380-42e8-a57a-1471d4b6770a",
   "metadata": {
    "ExecuteTime": {
     "end_time": "2024-05-19T08:06:37.719114200Z",
     "start_time": "2024-05-19T08:06:37.654127800Z"
    }
   },
   "outputs": [
    {
     "ename": "ImportError",
     "evalue": "attempted relative import with no known parent package",
     "output_type": "error",
     "traceback": [
      "\u001B[1;31m---------------------------------------------------------------------------\u001B[0m",
      "\u001B[1;31mImportError\u001B[0m                               Traceback (most recent call last)",
      "Cell \u001B[1;32mIn[2], line 5\u001B[0m\n\u001B[0;32m      3\u001B[0m \u001B[38;5;28;01mfrom\u001B[39;00m \u001B[38;5;21;01mtransformers\u001B[39;00m \u001B[38;5;28;01mimport\u001B[39;00m GPT2TokenizerFast\n\u001B[0;32m      4\u001B[0m \u001B[38;5;28;01mfrom\u001B[39;00m \u001B[38;5;21;01mtransformers\u001B[39;00m \u001B[38;5;28;01mimport\u001B[39;00m TrainingArguments, Trainer, DataCollatorForLanguageModeling\n\u001B[1;32m----> 5\u001B[0m \u001B[38;5;28;01mfrom\u001B[39;00m \u001B[38;5;21;01m.\u001B[39;00m\u001B[38;5;21;01m.\u001B[39;00m\u001B[38;5;21;01mconfiguration_sparse_gpt_neo\u001B[39;00m \u001B[38;5;28;01mimport\u001B[39;00m SparseGPTNeoConfig, SparsityType\n\u001B[0;32m      6\u001B[0m \u001B[38;5;28;01mfrom\u001B[39;00m \u001B[38;5;21;01m.\u001B[39;00m\u001B[38;5;21;01msparse_gpt_neo\u001B[39;00m \u001B[38;5;28;01mimport\u001B[39;00m SparseGPTNeoForCausalLM\n\u001B[0;32m      7\u001B[0m \u001B[38;5;28;01mimport\u001B[39;00m \u001B[38;5;21;01mwandb\u001B[39;00m\n",
      "\u001B[1;31mImportError\u001B[0m: attempted relative import with no known parent package"
     ]
    }
   ],
   "source": [
    "import transformers\n",
    "from datasets import load_from_disk\n",
    "from transformers import GPT2TokenizerFast\n",
    "from transformers import TrainingArguments, Trainer, DataCollatorForLanguageModeling\n",
    "from ..configuration_sparse_gpt_neo import SparseGPTNeoConfig, SparsityType\n",
    "from .sparse_gpt_neo import SparseGPTNeoForCausalLM\n",
    "import wandb"
   ]
  },
  {
   "cell_type": "code",
   "execution_count": 2,
   "id": "e7f94eb7-3f1a-49e5-97ff-c440858d2df4",
   "metadata": {},
   "outputs": [
    {
     "name": "stderr",
     "output_type": "stream",
     "text": [
      "Failed to detect the name of this notebook, you can set it manually with the WANDB_NOTEBOOK_NAME environment variable to enable code saving.\n",
      "wandb: W&B API key is configured. Use `wandb login --relogin` to force relogin\n",
      "wandb: WARNING If you're specifying your api key in code, ensure this code is not shared publicly.\n",
      "wandb: WARNING Consider setting the WANDB_API_KEY environment variable, or running `wandb login` from the command line.\n",
      "wandb: Appending key for api.wandb.ai to your netrc file: C:\\Users\\wue09\\.netrc\n"
     ]
    }
   ],
   "source": [
    "transformers.set_seed(123)\n",
    "with open('../wandb_key.txt') as f:\n",
    "    wandb.login(key = f.read())"
   ]
  },
  {
   "cell_type": "markdown",
   "id": "ed1776a9-9f59-449c-8e7a-253dff670b6e",
   "metadata": {},
   "source": [
    "# Data"
   ]
  },
  {
   "cell_type": "code",
   "execution_count": 3,
   "id": "de7446a2-467b-444a-9509-85bd44fa08cd",
   "metadata": {},
   "outputs": [],
   "source": [
    "dataset = load_from_disk(\"../data/TinyStories\")\n",
    "tokenized_dataset = load_from_disk(\"../data/TokenizedTinyStories\")"
   ]
  },
  {
   "cell_type": "markdown",
   "id": "a81801c7-ecbd-4ea3-9155-dd519d68cf4b",
   "metadata": {},
   "source": [
    "# Model"
   ]
  },
  {
   "cell_type": "code",
   "execution_count": null,
   "id": "d594a965-0385-439a-afea-bdb2018adc86",
   "metadata": {},
   "outputs": [],
   "source": []
  }
 ],
 "metadata": {
  "kernelspec": {
   "display_name": "Python 3 (ipykernel)",
   "language": "python",
   "name": "python3"
  },
  "language_info": {
   "codemirror_mode": {
    "name": "ipython",
    "version": 3
   },
   "file_extension": ".py",
   "mimetype": "text/x-python",
   "name": "python",
   "nbconvert_exporter": "python",
   "pygments_lexer": "ipython3",
   "version": "3.11.4"
  }
 },
 "nbformat": 4,
 "nbformat_minor": 5
}
